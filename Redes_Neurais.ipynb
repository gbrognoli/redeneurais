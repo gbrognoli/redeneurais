{
  "nbformat": 4,
  "nbformat_minor": 0,
  "metadata": {
    "colab": {
      "name": "Redes Neurais.ipynb",
      "provenance": [],
      "authorship_tag": "ABX9TyM5lvdCZ/AtwDFh3eFmm1lB",
      "include_colab_link": true
    },
    "kernelspec": {
      "name": "python3",
      "display_name": "Python 3"
    },
    "language_info": {
      "name": "python"
    }
  },
  "cells": [
    {
      "cell_type": "markdown",
      "metadata": {
        "id": "view-in-github",
        "colab_type": "text"
      },
      "source": [
        "<a href=\"https://colab.research.google.com/github/gbrognoli/redeneurais/blob/main/Redes_Neurais.ipynb\" target=\"_parent\"><img src=\"https://colab.research.google.com/assets/colab-badge.svg\" alt=\"Open In Colab\"/></a>"
      ]
    },
    {
      "cell_type": "code",
      "metadata": {
        "colab": {
          "base_uri": "https://localhost:8080/"
        },
        "id": "h2l536N1DEVZ",
        "outputId": "ba196a48-a278-4c17-eeff-01fbe78d930c"
      },
      "source": [
        "import numpy as np \n",
        "from sklearn import datasets\n",
        "from sklearn.neural_network import MLPClassifier\n",
        "from sklearn.metrics import accuracy_score\n",
        "from sklearn.preprocessing import StandardScaler\n",
        "\n",
        "scaler = StandardScaler()\n",
        "\n",
        "np.random.seed(5)\n",
        "\n",
        "iris = datasets.load_iris()\n",
        "X = iris.data\n",
        "y = iris.target\n",
        "\n",
        "scaler.fit(X)\n",
        "X = scaler.transform(X)\n",
        "\n",
        "sufInd = np.arange(150)\n",
        "np.random.shuffle(sufInd)\n",
        "\n",
        "X_train = X[sufInd[:100], :]\n",
        "X_test  = X[sufInd[100:],:]\n",
        "y_train = y[sufInd[:100]]\n",
        "y_test = y[sufInd[100:]]\n",
        "\n",
        "clf = MLPClassifier(solver='sgd', hidden_layer_sizes=(3,), learning_rate_init=0.07, activation='logistic' , max_iter=1500, random_state=1)\n",
        "clf.fit(X_train, y_train)\n",
        "y_pred = clf.predict_proba(X_test)\n",
        "y_aux = np.argmax(y_pred, 1)\n",
        "accuracy_score(y_test, y_aux)"
      ],
      "execution_count": 1,
      "outputs": [
        {
          "output_type": "execute_result",
          "data": {
            "text/plain": [
              "0.98"
            ]
          },
          "metadata": {
            "tags": []
          },
          "execution_count": 1
        }
      ]
    },
    {
      "cell_type": "code",
      "metadata": {
        "colab": {
          "base_uri": "https://localhost:8080/"
        },
        "id": "p8AAebR0DKbk",
        "outputId": "ecd474e9-bdff-4102-ca35-47130515bfbe"
      },
      "source": [
        "print(y_test[:10], y_aux[:10])"
      ],
      "execution_count": 2,
      "outputs": [
        {
          "output_type": "stream",
          "text": [
            "[1 1 0 1 2 1 0 1 2 2] [1 1 0 1 2 1 0 1 2 2]\n"
          ],
          "name": "stdout"
        }
      ]
    }
  ]
}